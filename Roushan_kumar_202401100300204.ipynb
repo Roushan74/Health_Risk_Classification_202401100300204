{
  "nbformat": 4,
  "nbformat_minor": 0,
  "metadata": {
    "colab": {
      "provenance": [],
      "authorship_tag": "ABX9TyONI5fSFZFIiIHvvDaNNdae",
      "include_colab_link": true
    },
    "kernelspec": {
      "name": "python3",
      "display_name": "Python 3"
    },
    "language_info": {
      "name": "python"
    }
  },
  "cells": [
    {
      "cell_type": "markdown",
      "metadata": {
        "id": "view-in-github",
        "colab_type": "text"
      },
      "source": [
        "<a href=\"https://colab.research.google.com/github/Roushan74/Health_Risk_Classification_202401100300204/blob/main/Roushan_kumar_202401100300204.ipynb\" target=\"_parent\"><img src=\"https://colab.research.google.com/assets/colab-badge.svg\" alt=\"Open In Colab\"/></a>"
      ]
    },
    {
      "cell_type": "code",
      "execution_count": 13,
      "metadata": {
        "colab": {
          "base_uri": "https://localhost:8080/",
          "height": 852
        },
        "id": "qz0JZWWHywqC",
        "outputId": "c995616d-a210-4d89-b7a9-cfe42f3f4ffb"
      },
      "outputs": [
        {
          "output_type": "stream",
          "name": "stdout",
          "text": [
            "         bmi  exercise_hours  junk_food_freq risk_level\n",
            "0  28.730279              13               1       high\n",
            "1  31.301442              12               4     medium\n",
            "2  32.549043               9               0     medium\n",
            "3  30.463670               2               1     medium\n",
            "4  28.431755               2               1        low\n",
            "Classification Report:\n",
            "               precision    recall  f1-score   support\n",
            "\n",
            "        high       0.20      0.20      0.20         5\n",
            "         low       0.14      0.20      0.17         5\n",
            "      medium       0.62      0.50      0.56        10\n",
            "\n",
            "    accuracy                           0.35        20\n",
            "   macro avg       0.32      0.30      0.31        20\n",
            "weighted avg       0.40      0.35      0.37        20\n",
            "\n",
            "Confusion Matrix:\n",
            " [[1 3 1]\n",
            " [2 1 2]\n",
            " [2 3 5]]\n"
          ]
        },
        {
          "output_type": "display_data",
          "data": {
            "text/plain": [
              "<Figure size 640x480 with 1 Axes>"
            ],
            "image/png": "[encoded data removed]"
          },
          "metadata": {}
        }
      ],
      "source": [
        "# Import necessary libraries\n",
        "import pandas as pd\n",
        "from sklearn.model_selection import train_test_split\n",
        "from sklearn.ensemble import RandomForestClassifier\n",
        "from sklearn.preprocessing import LabelEncoder\n",
        "from sklearn.metrics import classification_report, confusion_matrix\n",
        "import seaborn as sns\n",
        "import matplotlib.pyplot as plt\n",
        "\n",
        "# Load the dataset from CSV file\n",
        "df = pd.read_csv('/content/health_risk.csv')\n",
        "\n",
        "# Display the first few rows to understand the structure (optional)\n",
        "print(df.head())\n",
        "\n",
        "# Encode the categorical target column 'risk_level' to numeric values\n",
        "# e.g., 'low' → 1, 'medium' → 2, 'high' → 0 (based on internal ordering)\n",
        "le = LabelEncoder()\n",
        "df['risk_level_encoded'] = le.fit_transform(df['risk_level'])\n",
        "\n",
        "# Separate the features (independent variables) and target (dependent variable)\n",
        "X = df[['bmi', 'exercise_hours', 'junk_food_freq']]  # Features\n",
        "y = df['risk_level_encoded']                          # Target\n",
        "\n",
        "# Split the data into training and test sets (80% training, 20% testing)\n",
        "X_train, X_test, y_train, y_test = train_test_split(X, y, test_size=0.2, random_state=42)\n",
        "\n",
        "# Initialize the Random Forest Classifier with 100 decision trees\n",
        "model = RandomForestClassifier(n_estimators=100, random_state=42)\n",
        "\n",
        "# Train the model on the training data\n",
        "model.fit(X_train, y_train)\n",
        "\n",
        "# Use the trained model to make predictions on the test set\n",
        "y_pred = model.predict(X_test)\n",
        "\n",
        "# Print a classification report to evaluate precision, recall, F1-score\n",
        "print(\"Classification Report:\\n\", classification_report(y_test, y_pred, target_names=le.classes_))\n",
        "\n",
        "# Print the confusion matrix to see how well the model predicted each class\n",
        "print(\"Confusion Matrix:\\n\", confusion_matrix(y_test, y_pred))\n",
        "\n",
        "# Plot the importance of each feature used in the model\n",
        "feature_importance = pd.Series(model.feature_importances_, index=X.columns)\n",
        "sns.barplot(x=feature_importance.values, y=feature_importance.index)\n",
        "plt.title('Feature Importance')\n",
        "plt.xlabel('Importance Score')\n",
        "plt.ylabel('Feature')\n",
        "plt.tight_layout()\n",
        "plt.show()\n"
      ]
    }
  ]
}